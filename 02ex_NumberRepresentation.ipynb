{
 "cells": [
  {
   "cell_type": "markdown",
   "metadata": {},
   "source": [
    "1\\. Write a function that converts number representation, bin<->dec<->hex. (Clearly using the corresponding python built-in functions is not fair..)"
   ]
  },
  {
   "cell_type": "code",
   "execution_count": 149,
   "metadata": {},
   "outputs": [
    {
     "data": {
      "text/plain": [
       "'1010'"
      ]
     },
     "execution_count": 149,
     "metadata": {},
     "output_type": "execute_result"
    }
   ],
   "source": [
    "import math as m\n",
    "\n",
    "def dec_to_bin(dec):\n",
    "    if dec == 0: \n",
    "        return str(0)\n",
    "    binary = []\n",
    "    while dec != 0:\n",
    "        binary.append(str(dec % 2))\n",
    "        dec = dec // 2\n",
    "    binary.reverse()\n",
    "    return \"\".join(binary)\n",
    "\n",
    "def bin_to_hex(binary):\n",
    "    hex_dictionary = {'0': '0000', '1': '0001', '2': '0010', '3': '0011', '4': '0100', '5': '0101', '6': '0110', '7': '0111', \n",
    "                  '8': '1000', '9': '1001', 'A': '1010', 'B': '1011', 'C': '1100', 'D': '1101', 'E': '1110', 'F': '1111'}\n",
    "    binary = list(str(binary))\n",
    "    while len(binary) % 4 != 0:\n",
    "        binary.insert(0, '0')\n",
    "    binary = \"\".join(binary)\n",
    "    hexa = []\n",
    "    for i in range(0, len(binary), 4):\n",
    "        for key, values in hex_dictionary.items():\n",
    "            if binary[i:i+4] == values:\n",
    "                hexa.append(key)\n",
    "    return \"\".join(hexa)\n",
    "    \n",
    "def hex_to_dec(hexa):\n",
    "    hex_dictionary_again = {'0': 0, '1': 1, '2': 2, '3': 3, '4': 4, '5': 5, '6': 6, '7': 7, '8': 8, '9': 9, \n",
    "                            'A': 10, 'B': 11, 'C': 12, 'D': 13, 'E': 14, 'F': 15}\n",
    "    result = 0\n",
    "    hexa = hexa.upper()\n",
    "    for i, digit in enumerate(hexa):\n",
    "        for key, value in hex_dictionary_again.items():\n",
    "            if digit == key:\n",
    "                result += value * 16 ** (len(hexa)- (i +1))\n",
    "    return result \n",
    "hex_to_dec('57A')\n",
    "\n",
    "def dec_to_hex(dec):\n",
    "    return bin_to_hex(dec_to_bin(dec))\n",
    "\n",
    "def hex_to_bin(hexa):\n",
    "    return dec_to_bin(hex_to_dec(hexa))\n",
    "    \n",
    "hex_to_bin('A')"
   ]
  },
  {
   "cell_type": "code",
   "execution_count": 78,
   "metadata": {},
   "outputs": [
    {
     "data": {
      "text/plain": [
       "\u001b[31mSignature:\u001b[39m list.insert(self, index, object, /)\n",
       "\u001b[31mDocstring:\u001b[39m Insert object before index.\n",
       "\u001b[31mType:\u001b[39m      method_descriptor"
      ]
     },
     "metadata": {},
     "output_type": "display_data"
    }
   ],
   "source": []
  },
  {
   "cell_type": "markdown",
   "metadata": {},
   "source": [
    "2\\. Write a function that converts a 32 bit word into a single precision floating point (i.e. interprets the various bits as sign, mantissa and exponent)"
   ]
  },
  {
   "cell_type": "code",
   "execution_count": 179,
   "metadata": {},
   "outputs": [
    {
     "data": {
      "text/plain": [
       "\u001b[31mSignature:\u001b[39m npr.randint(low, high=\u001b[38;5;28;01mNone\u001b[39;00m, size=\u001b[38;5;28;01mNone\u001b[39;00m, dtype=<\u001b[38;5;28;01mclass\u001b[39;00m \u001b[33m'int'\u001b[39m>)\n",
       "\u001b[31mDocstring:\u001b[39m\n",
       "randint(low, high=None, size=None, dtype=int)\n",
       "\n",
       "Return random integers from `low` (inclusive) to `high` (exclusive).\n",
       "\n",
       "Return random integers from the \"discrete uniform\" distribution of\n",
       "the specified dtype in the \"half-open\" interval [`low`, `high`). If\n",
       "`high` is None (the default), then results are from [0, `low`).\n",
       "\n",
       ".. note::\n",
       "    New code should use the `~numpy.random.Generator.integers`\n",
       "    method of a `~numpy.random.Generator` instance instead;\n",
       "    please see the :ref:`random-quick-start`.\n",
       "\n",
       "Parameters\n",
       "----------\n",
       "low : int or array-like of ints\n",
       "    Lowest (signed) integers to be drawn from the distribution (unless\n",
       "    ``high=None``, in which case this parameter is one above the\n",
       "    *highest* such integer).\n",
       "high : int or array-like of ints, optional\n",
       "    If provided, one above the largest (signed) integer to be drawn\n",
       "    from the distribution (see above for behavior if ``high=None``).\n",
       "    If array-like, must contain integer values\n",
       "size : int or tuple of ints, optional\n",
       "    Output shape.  If the given shape is, e.g., ``(m, n, k)``, then\n",
       "    ``m * n * k`` samples are drawn.  Default is None, in which case a\n",
       "    single value is returned.\n",
       "dtype : dtype, optional\n",
       "    Desired dtype of the result. Byteorder must be native.\n",
       "    The default value is long.\n",
       "\n",
       "    .. warning::\n",
       "      This function defaults to the C-long dtype, which is 32bit on windows\n",
       "      and otherwise 64bit on 64bit platforms (and 32bit on 32bit ones).\n",
       "      Since NumPy 2.0, NumPy's default integer is 32bit on 32bit platforms\n",
       "      and 64bit on 64bit platforms.  Which corresponds to `np.intp`.\n",
       "      (`dtype=int` is not the same as in most NumPy functions.)\n",
       "\n",
       "Returns\n",
       "-------\n",
       "out : int or ndarray of ints\n",
       "    `size`-shaped array of random integers from the appropriate\n",
       "    distribution, or a single such random int if `size` not provided.\n",
       "\n",
       "See Also\n",
       "--------\n",
       "random_integers : similar to `randint`, only for the closed\n",
       "    interval [`low`, `high`], and 1 is the lowest value if `high` is\n",
       "    omitted.\n",
       "random.Generator.integers: which should be used for new code.\n",
       "\n",
       "Examples\n",
       "--------\n",
       ">>> np.random.randint(2, size=10)\n",
       "array([1, 0, 0, 0, 1, 1, 0, 0, 1, 0]) # random\n",
       ">>> np.random.randint(1, size=10)\n",
       "array([0, 0, 0, 0, 0, 0, 0, 0, 0, 0])\n",
       "\n",
       "Generate a 2 x 4 array of ints between 0 and 4, inclusive:\n",
       "\n",
       ">>> np.random.randint(5, size=(2, 4))\n",
       "array([[4, 0, 2, 1], # random\n",
       "       [3, 2, 2, 0]])\n",
       "\n",
       "Generate a 1 x 3 array with 3 different upper bounds\n",
       "\n",
       ">>> np.random.randint(1, [3, 5, 10])\n",
       "array([2, 2, 9]) # random\n",
       "\n",
       "Generate a 1 by 3 array with 3 different lower bounds\n",
       "\n",
       ">>> np.random.randint([1, 5, 7], 10)\n",
       "array([9, 8, 7]) # random\n",
       "\n",
       "Generate a 2 by 4 array using broadcasting with dtype of uint8\n",
       "\n",
       ">>> np.random.randint([1, 3, 5, 7], [[10], [20]], dtype=np.uint8)\n",
       "array([[ 8,  6,  9,  7], # random\n",
       "       [ 1, 16,  9, 12]], dtype=uint8)\n",
       "\u001b[31mType:\u001b[39m      method"
      ]
     },
     "metadata": {},
     "output_type": "display_data"
    }
   ],
   "source": [
    "npr.randint?"
   ]
  },
  {
   "cell_type": "code",
   "execution_count": 206,
   "metadata": {},
   "outputs": [
    {
     "name": "stdout",
     "output_type": "stream",
     "text": [
      "11100000000000000000000000000000 = -3.6893488147419103e+19\n"
     ]
    }
   ],
   "source": [
    "import numpy.random as npr\n",
    "\n",
    "npr.seed(43)\n",
    "\n",
    "#random_number = \"\".join(list(map(str, npr.randint(0,2,32))))\n",
    "random_number = '11100000000000000000000000000000'\n",
    "s = (-1) ** int(random_number[0], 2)\n",
    "e = int(random_number[1:9], 2)\n",
    "bias = 127\n",
    "mantissa = 1\n",
    "exp = 2 ** (e-bias)\n",
    "for i, digit in enumerate(random_number[9:]):\n",
    "    mantissa += int(digit) / ( 2 ** (int(i)+1))\n",
    "print(f\"{random_number} = {mantissa * s * exp}\")\n",
    "#mantissa = int(rando)"
   ]
  },
  {
   "cell_type": "markdown",
   "metadata": {},
   "source": [
    "3\\. Write a program to determine the underflow and overflow limits (within a factor of 2) for python on your computer. \n",
    "\n",
    "**Tips**: define two variables inizialized to 1 and halve/double them enough time to exceed the under/over-flow limits  "
   ]
  },
  {
   "cell_type": "code",
   "execution_count": null,
   "metadata": {},
   "outputs": [],
   "source": []
  },
  {
   "cell_type": "markdown",
   "metadata": {},
   "source": [
    "4\\. Write a program to determine the machine precision\n",
    "\n",
    "**Tips**: define a new variable by adding a smaller and smaller value (proceeding similarly to prob. 2) to an original variable and check the point where the two are the same "
   ]
  },
  {
   "cell_type": "markdown",
   "metadata": {},
   "source": [
    "5\\. Write a function that takes in input three parameters $a$, $b$ and $c$ and prints out the two solutions to the quadratic equation $ax^2+bx+c=0$ using the standard formula:\n",
    "$$\n",
    "x=\\frac{-b\\pm\\sqrt{b^2-4ac}}{2a}\n",
    "$$\n",
    "\n",
    "(a) use the program to compute the solution for $a=0.001$, $b=1000$ and $c=0.001$\n",
    "\n",
    "(b) re-express the standard solution formula by multiplying top and bottom by $-b\\mp\\sqrt{b^2-4ac}$ and again find the solution for $a=0.001$, $b=1000$ and $c=0.001$. How does it compare with what previously obtained? Why?\n",
    "\n",
    "(c) write a function that compute the roots of a quadratic equation accurately in all cases"
   ]
  },
  {
   "cell_type": "code",
   "execution_count": 268,
   "metadata": {},
   "outputs": [
    {
     "name": "stdout",
     "output_type": "stream",
     "text": [
      "0.0 0.0\n"
     ]
    }
   ],
   "source": [
    "import math as m\n",
    "\n",
    "def eq_2nd_degree(a,b,c):\n",
    "    x_1 = (-b + m.sqrt(b ** 2 - 4 * a * c) )/(2*a)\n",
    "    x_2 = (-b - m.sqrt(b ** 2 - 4 * a * c) ) / (2*a)\n",
    "    return x_1, x_2\n",
    "a_1, a_2 = eq_2nd_degree(0.001, 1000, 0.001)\n",
    "\n",
    "\n",
    "def eq_reexpress(a,b,c):\n",
    "    x_1 = (-b + m.sqrt(b ** 2 - 4 * a * c)) * (-b - m.sqrt(b ** 2 - 4 * a * c)) / (-b - m.sqrt(b ** 2 - 4 * a * c)) / (2*a) \n",
    "    x_2 = (-b - m.sqrt(b ** 2 - 4 * a * c)) * (-b + m.sqrt(b ** 2 - 4 * a * c)) / (-b + m.sqrt(b ** 2 - 4 * a * c)) / (2*a)\n",
    "    return x_1, x_2\n",
    "x_1, x_2 = eq_reexpress(0.001, 1000, 0.001)\n",
    "\n",
    "print(x_1-a_1, x_2-a_2)"
   ]
  },
  {
   "cell_type": "markdown",
   "metadata": {},
   "source": [
    "6\\. Write a program that implements the function $f(x)=x(x−1)$\n",
    "\n",
    "(a) Calculate the derivative of the function at the point $x = 1$ using the derivative definition:\n",
    "\n",
    "$$\n",
    "\\frac{{\\rm d}f}{{\\rm d}x} = \\lim_{\\delta\\to0} \\frac{f(x+\\delta)-f(x)}{\\delta}\n",
    "$$\n",
    "\n",
    "with $\\delta = 10^{−2}$. Calculate the true value of the same derivative analytically and compare with the answer your program gives. The two will not agree perfectly. Why not?\n",
    "\n",
    "(b) Repeat the calculation for $\\delta = 10^{−4}, 10^{−6}, 10^{−8}, 10^{−10}, 10^{−12}$ and $10^{−14}$. How does the accuracy scales with $\\delta$?"
   ]
  },
  {
   "cell_type": "code",
   "execution_count": 256,
   "metadata": {},
   "outputs": [
    {
     "name": "stdout",
     "output_type": "stream",
     "text": [
      "0.010000000000000897\n",
      "9.999999988985486e-05\n",
      "9.99917733279787e-07\n",
      "3.922528746258536e-09\n",
      "8.284037100736441e-08\n",
      "8.890058334132256e-05\n",
      "0.0007992778373491216\n",
      "0.11022302462515765\n"
     ]
    }
   ],
   "source": [
    "def f(x):\n",
    "    return x * (x - 1)\n",
    "def derivative(delta):\n",
    "    #delta = 10 ** (-2)\n",
    "    ddx = (f(1+delta) - f(1)) / delta\n",
    "    return ddx\n",
    "\n",
    "deltas = [1e-2, 1e-4, 1e-6, 1e-8, 1e-10, 1e-12, 1e-14, 1e-15] \n",
    "for delta in deltas:\n",
    "    error = abs(1 - derivative(delta))\n",
    "    print(error)"
   ]
  },
  {
   "cell_type": "markdown",
   "metadata": {},
   "source": [
    "7\\. Consider the integral of the semicircle of radius 1:\n",
    "$$\n",
    "I=\\int_{-1}^{1} \\sqrt(1-x^2) {\\rm d}x\n",
    "$$\n",
    "which it's known to be $I=\\frac{\\pi}{2}=1.57079632679...$.\n",
    "Alternatively we can use the Riemann definition of the integral:\n",
    "$$\n",
    "I=\\lim_{N\\to\\infty} \\sum_{k=1}^{N} h y_k \n",
    "$$\n",
    "\n",
    "with $h=2/N$ the width of each of the $N$ slices the domain is divided into and where\n",
    "$y_k$ is the value of the function at the $k-$th slice.\n",
    "\n",
    "(a) Write a programe to compute the integral with $N=100$. How does the result compares to the true value?\n",
    "\n",
    "(b) How much can $N$ be increased if the computation needs to be run in less than a second? What is the gain in running it for 1 minute? \n"
   ]
  },
  {
   "cell_type": "code",
   "execution_count": null,
   "metadata": {},
   "outputs": [],
   "source": []
  },
  {
   "cell_type": "code",
   "execution_count": 242,
   "metadata": {},
   "outputs": [
    {
     "name": "stdout",
     "output_type": "stream",
     "text": [
      "970543810\n",
      "the error is about: 0.6%\n"
     ]
    }
   ],
   "source": [
    "import math as m\n",
    "import time\n",
    "def integral(N):\n",
    "    I = 0\n",
    "    h = 2 / N\n",
    "    for i in range(N):\n",
    "        I += h * m.sqrt(1 - (i / N)**2)\n",
    "    error = (I - m.pi / 2) / (m.pi / 2) * 100 \n",
    "    return I, error\n",
    "I, error = integral(100)\n",
    "\n",
    "N = 1000\n",
    "target = 60.0\n",
    "while True:\n",
    "    start = time.time()\n",
    "    integral(N)\n",
    "    end = time.time()\n",
    "    if end - start > target:\n",
    "        break\n",
    "    N = int(1.5 * N)\n",
    "print(N)\n",
    "print(f\"the error is about: {error}%\")"
   ]
  },
  {
   "cell_type": "code",
   "execution_count": null,
   "metadata": {},
   "outputs": [],
   "source": []
  }
 ],
 "metadata": {
  "kernelspec": {
   "display_name": "Python 3 (ipykernel)",
   "language": "python",
   "name": "python3"
  },
  "language_info": {
   "codemirror_mode": {
    "name": "ipython",
    "version": 3
   },
   "file_extension": ".py",
   "mimetype": "text/x-python",
   "name": "python",
   "nbconvert_exporter": "python",
   "pygments_lexer": "ipython3",
   "version": "3.13.4"
  }
 },
 "nbformat": 4,
 "nbformat_minor": 4
}
