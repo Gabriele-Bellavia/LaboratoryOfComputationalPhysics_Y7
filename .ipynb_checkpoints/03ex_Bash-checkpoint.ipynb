{
 "cells": [
  {
   "cell_type": "markdown",
   "id": "b5746bd0",
   "metadata": {},
   "source": [
    "The following exercises are meant to be solved by gathering the bash commands incrimentally in two scripts, one for ex 1.* the other for ex 2.* "
   ]
  },
  {
   "cell_type": "markdown",
   "id": "4e60de78",
   "metadata": {},
   "source": [
    "### Ex 1"
   ]
  },
  {
   "cell_type": "markdown",
   "id": "6759df36",
   "metadata": {},
   "source": [
    "1\\.a Make a new directory called `students` in your home. Download a csv file with the list of students of this lab from [here](https://www.dropbox.com/s/867rtx3az6e9gm8/LCP_22-23_students.csv) (use the `wget` command) and copy that to `students`. First check whether the file is already there"
   ]
  },
  {
   "cell_type": "markdown",
   "id": "798c0c9d",
   "metadata": {},
   "source": [
    "1\\.b Make two new files, one containing the students belonging to PoD, the other to Physics."
   ]
  },
  {
   "cell_type": "markdown",
   "id": "8a43d622",
   "metadata": {},
   "source": [
    "1\\.c For each letter of the alphabet, count the number of students whose surname starts with that letter. "
   ]
  },
  {
   "cell_type": "markdown",
   "id": "4ba6bc90",
   "metadata": {},
   "source": [
    "1\\.d Find out which is the letter with most counts."
   ]
  },
  {
   "cell_type": "markdown",
   "id": "086a043c",
   "metadata": {},
   "source": [
    "1\\.e Assume an obvious numbering of the students in the file (first line is 1, second line is 2, etc.), group students \"modulo 18\", i.e. 1,19,37,.. 2,20,38,.. etc. and put each group in a separate file  "
   ]
  },
  {
   "cell_type": "code",
   "execution_count": 17,
   "id": "84fb4053-459a-453b-bc49-ab67813863e2",
   "metadata": {},
   "outputs": [],
   "source": [
    "%%bash\n",
    "#!/bin/bash\n",
    "\n",
    "URL='https://www.dropbox.com/s/867rtx3az6e9gm8/LCP_22-23_students.csv'\n",
    "dir_name='students'\n",
    "file_name='students.csv'\n",
    "pod_file='pod_students.csv'\n",
    "physics_file='physics_students.csv'\n",
    "counts='counts.csv'\n",
    "most_counts='most_counts.csv'\n",
    "\n",
    "if [ ! -d \"$dir_name\" ]; then\n",
    "    mkdir \"$dir_name\"\n",
    "fi\n",
    "\n",
    "cd $dir_name\n",
    "\n",
    "if [ ! -f \"$file_name\" ]; then\n",
    "    wget -O \"$file_name\" \"$URL\"\n",
    "fi\n",
    "\n",
    "grep -i \"pod\" \"$file_name\" > \"$pod_file\"\n",
    "grep -i \"physics\" \"$file_name\" > \"$physics_file\"\n",
    "\n",
    "> \"$counts\"\n",
    "for letter in {A..Z}; do\n",
    "    count=$(grep -i \"^$letter\" \"$file_name\" | wc -l)\n",
    "    echo \"$count, $letter\" >> \"$counts\"\n",
    "done\n",
    "\n",
    "sort -nr \"$counts\" | head -1 > \"$most_counts\"\n",
    "\n",
    "awk 'NR > 1 { group = ( NR - 1 ) % 18; print > (\"group_\" group \".txt\") }' \"$file_name\""
   ]
  },
  {
   "cell_type": "markdown",
   "id": "1d730d21",
   "metadata": {},
   "source": [
    "### Ex 2"
   ]
  },
  {
   "cell_type": "markdown",
   "id": "4b87ecb7",
   "metadata": {},
   "source": [
    "2.a Make a copy of the file `data.csv` removing the metadata and the commas between numbers; call it `data.txt`"
   ]
  },
  {
   "cell_type": "markdown",
   "id": "344048c8",
   "metadata": {},
   "source": [
    "2\\.b How many even numbers are there?"
   ]
  },
  {
   "cell_type": "markdown",
   "id": "2a27138d",
   "metadata": {},
   "source": [
    "2\\.c Distinguish the entries on the basis of `sqrt(X^2 + Y^2 + Z^2)` is greater or smaller than `100*sqrt(3)/2`. Count the entries of each of the two groups "
   ]
  },
  {
   "cell_type": "markdown",
   "id": "e937ef4e",
   "metadata": {},
   "source": [
    "2\\.d Make `n` copies of data.txt (with `n` an input parameter of the script), where the i-th copy has all the numbers divided by i (with `1<=i<=n`)."
   ]
  },
  {
   "cell_type": "code",
   "execution_count": 38,
   "id": "b1c71cec-5867-4901-8d92-e70d17e15538",
   "metadata": {},
   "outputs": [],
   "source": [
    "%%bash\n",
    "\n",
    "grep -v \"^#\" bash2/data.csv | sed 's/,//g' > data.txt\n",
    "\n",
    "awk '{\n",
    "        for (i=1; i<=NF; i++) {\n",
    "            if ($i % 2 == 0) count++\n",
    "            }    \n",
    "    } END { \n",
    "        print count\n",
    "}' data.txt > even_numbers.txt\n",
    "\n",
    "awk '{\n",
    "    r = sqrt($1^2 + $2^2 + $3^2)\n",
    "    if (r > 100 * sqrt(3) / 2)\n",
    "        count_gt++\n",
    "    else \n",
    "        count_le++\n",
    "} END { print \"Greater:\", count_gt\n",
    "        print \"Smaller or equal\", count_le\n",
    "}' data.txt > count.txt\n",
    "\n",
    "for i in $(seq 1 $1); do\n",
    "    awk -v d=\"$i\" '{\n",
    "        for (j=1; j<=NF; j++) {\n",
    "            $j = $j / d\n",
    "        }\n",
    "        print\n",
    "    }' data.txt > \"data_$i.txt\"\n",
    "done"
   ]
  },
  {
   "cell_type": "code",
   "execution_count": null,
   "id": "772152ab-e493-41c7-a86e-11ab82323081",
   "metadata": {},
   "outputs": [],
   "source": []
  }
 ],
 "metadata": {
  "kernelspec": {
   "display_name": "Python 3 (ipykernel)",
   "language": "python",
   "name": "python3"
  },
  "language_info": {
   "codemirror_mode": {
    "name": "ipython",
    "version": 3
   },
   "file_extension": ".py",
   "mimetype": "text/x-python",
   "name": "python",
   "nbconvert_exporter": "python",
   "pygments_lexer": "ipython3",
   "version": "3.13.4"
  }
 },
 "nbformat": 4,
 "nbformat_minor": 5
}
